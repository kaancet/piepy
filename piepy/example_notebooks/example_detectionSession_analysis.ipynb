{
 "cells": [
  {
   "cell_type": "code",
   "execution_count": 1,
   "metadata": {},
   "outputs": [],
   "source": [
    "import polars as pl\n",
    "import os\n",
    "import numpy as np\n",
    "import matplotlib.pyplot as plt\n",
    "from piepy.psychophysics.wheel.detection.wheelDetectionSession import WheelDetectionSession\n",
    "from piepy.psychophysics.wheel.wheelTrace import WheelTrace\n",
    "from piepy.core.data_functions import make_subsets"
   ]
  },
  {
   "attachments": {},
   "cell_type": "markdown",
   "metadata": {},
   "source": [
    "### 1. Analyse the session"
   ]
  },
  {
   "cell_type": "code",
   "execution_count": 2,
   "metadata": {
    "scrolled": false
   },
   "outputs": [
    {
     "name": "stdout",
     "output_type": "stream",
     "text": [
      "\u001b[36m[25-01-30 13:15:07] - Found saved data: /Users/kaan/data/analysis/230413_KC143_detect_opto120_dorsal__no_cam_KC/runData.parquet\n",
      "\u001b[0m\u001b[37m[25-01-30 13:15:07] - Loading from ['/Users/kaan/data/analysis/230413_KC143_detect_opto120_dorsal__no_cam_KC']\n",
      "\u001b[0m\u001b[32m[25-01-30 13:15:07] - Loaded session data from /Users/kaan/data/analysis/230413_KC143_detect_opto120_dorsal__no_cam_KC/runData.parquet\n",
      "\u001b[0m\u001b[37m[25-01-30 13:15:07] - Done! t=0.02 s\n",
      "\u001b[0m"
     ]
    },
    {
     "name": "stderr",
     "output_type": "stream",
     "text": [
      "/Users/kaan/code/piepy/piepy/psychophysics/wheel/detection/wheelDetectionSession.py:138: OptimizeWarning: Covariance of the parameters could not be estimated\n",
      "  popt, pcov = curve_fit(\n"
     ]
    }
   ],
   "source": [
    "exp_name = \"230413_KC143_detect_opto120_dorsal__no_cam_KC\"\n",
    "# exp_name = \"230106_KC144_detect__no_cam_KC\"\n",
    "w = WheelDetectionSession(exp_name,\n",
    "                          load_flag=True,\n",
    "                          skip_google=True)\n",
    "data = w.runs[0].data.data\n",
    "paths = w.runs[0].paths"
   ]
  },
  {
   "cell_type": "code",
   "execution_count": null,
   "metadata": {},
   "outputs": [],
   "source": [
    "trial = data[0]\n",
    "\n",
    "reset_time_point = trial[0,\"t_trialstart\"]\n",
    "t = trial[0,\"wheel_t\"].to_numpy()\n",
    "pos = trial[0,\"wheel_pos\"].to_numpy()\n",
    "trace = WheelTrace()\n",
    "\n",
    "t,pos = trace.fix_trace_timing(t,pos)\n",
    "_, _, t_interp, tick_interp = trace.reset_and_interpolate(\n",
    "                t, pos, reset_time_point, 5\n",
    "            )\n",
    "\n",
    "pos_interp = trace.cm_to_rad(trace.ticks_to_cm(tick_interp))\n",
    "\n",
    "mov_dict = trace.get_movements(\n",
    "                t_interp,\n",
    "                pos_interp,\n",
    "                freq=5,\n",
    "                pos_thresh=0.00015,  # rads, 0.02 for ticks\n",
    "                t_thresh=,\n",
    "            )\n",
    "\n"
   ]
  },
  {
   "cell_type": "code",
   "execution_count": 3,
   "metadata": {},
   "outputs": [],
   "source": [
    "from piepy.plotters.psychophysics.progress_plot import *\n",
    "from piepy.plotters.psychophysics.detection.trial_plotter import plot_trial\n",
    "from piepy.plotters.psychophysics.detection.cumulative_outcome_plot import plot_cumulative_outcome\n",
    "from piepy.plotters.psychophysics.detection.psychometric_plot import plot_psychometric\n",
    "from piepy.plotters.psychophysics.detection.wheel_profile_plot import *\n",
    "from piepy.plotters.psychophysics.detection.wheel_slope_offset_plot import *\n",
    "from piepy.plotters.psychophysics.detection.reaction_time_cloud_plot import plot_reaction_time_cloud\n",
    "from piepy.plotters.psychophysics.detection.reaction_time_distribution_plot import plot_reaction_time_distribution"
   ]
  },
  {
   "cell_type": "code",
   "execution_count": null,
   "metadata": {},
   "outputs": [],
   "source": [
    "import pprint\n",
    "row = w.runs[0].data.data[245]\n",
    "pprint.pp(row.to_dict(as_series=False))\n",
    "print(row[0,\"reward\"])\n",
    "plot_trial(row,\n",
    "           t_thresh=1,\n",
    "           pos_thresh=0.0005,\n",
    "           min_dur=20,\n",
    "           min_gap=30)"
   ]
  },
  {
   "cell_type": "code",
   "execution_count": null,
   "metadata": {},
   "outputs": [],
   "source": [
    "reset_time = 4558891\n",
    "t = np.array([4559345, 4559481, 4559531, 4559557, 4559579, 4559600, 4559620,\n",
    "       4559657, 4559724, 4559832, 4559900, 4559965, 4560014, 4560052,\n",
    "       4560102])\n",
    "\n",
    "pos = np.array([-423971, -423972, -423972, -423970, -423968, -423966, -423964,\n",
    "       -423962, -423963, -423965, -423967, -423969, -423971, -423973,\n",
    "       -423975])\n",
    "print(len(t),len(pos))"
   ]
  },
  {
   "cell_type": "code",
   "execution_count": null,
   "metadata": {},
   "outputs": [],
   "source": [
    "from scipy.signal import find_peaks \n",
    "# trial = row = w.runs[0].data.data[194]\n",
    "\n",
    "# reset_time_point = trial[0,\"t_trialstart\"]\n",
    "# t = trial[0,\"wheel_t\"].to_numpy()\n",
    "# pos = trial[0,\"wheel_pos\"].to_numpy()\n",
    "trace = WheelTrace()\n",
    "\n",
    "t,pos = trace.fix_trace_timing(t,pos)\n",
    "_, _, t_interp, tick_interp = trace.reset_and_interpolate(\n",
    "                t, pos, reset_time, 5\n",
    "            )\n",
    "\n",
    "pos_interp = trace.cm_to_rad(trace.ticks_to_cm(tick_interp))\n",
    "speed = np.abs(trace.get_filtered_velocity(pos_interp,interp_freq=5))*1000\n",
    "# plt.plot(t_interp,speed)\n",
    "plt.plot(t_interp,pos_interp)\n",
    "plt.plot(t_interp,speed)\n",
    "mov_dict = trace.get_movements(\n",
    "                t_interp,\n",
    "                pos_interp,\n",
    "                freq=5,\n",
    "                pos_thresh=0.0003,  # rads, 0.02 for ticks\n",
    "                t_thresh=1,\n",
    "                min_dur=20,\n",
    "                min_gap=30\n",
    "            )\n",
    "for i in range(len(mov_dict[\"onsets\"])):\n",
    "    _t = mov_dict[\"onsets\"][i]\n",
    "    plt.scatter(_t[1], pos_interp[int(_t[0])], color=\"b\")\n",
    "    _e = mov_dict[\"offsets\"][i]\n",
    "    plt.scatter(_e[1], pos_interp[int(_e[0])], color=\"r\")\n",
    "\n",
    "\n",
    "mov_dict"
   ]
  },
  {
   "cell_type": "code",
   "execution_count": null,
   "metadata": {},
   "outputs": [],
   "source": [
    "\n",
    "# add_t = np.arange(reset_time,t[0],50)\n",
    "# add_pos = np.array([pos[0]]*len(add_t))\n",
    "\n",
    "# t = np.append(add_t,t)\n",
    "# pos = np.append(add_pos,pos)\n",
    "\n",
    "t = t - reset_time\n",
    "plt.plot(t,pos)\n"
   ]
  },
  {
   "cell_type": "code",
   "execution_count": null,
   "metadata": {},
   "outputs": [],
   "source": [
    "_t = np.arange(reset_p,t[0],50)\n",
    "_pos = np.array([pos[0]]*len(_t))\n",
    "print(_t)\n",
    "print(_pos)"
   ]
  },
  {
   "cell_type": "code",
   "execution_count": 62,
   "metadata": {},
   "outputs": [],
   "source": [
    "new_t = np.append(_t,t)\n",
    "new_pos = np.append(_pos,pos)"
   ]
  },
  {
   "cell_type": "code",
   "execution_count": null,
   "metadata": {},
   "outputs": [],
   "source": [
    "new_t = new_t - reset_p\n",
    "plt.plot(new_t,new_pos)\n"
   ]
  },
  {
   "cell_type": "markdown",
   "metadata": {},
   "source": [
    "### Progression of performance"
   ]
  },
  {
   "cell_type": "code",
   "execution_count": null,
   "metadata": {},
   "outputs": [],
   "source": [
    "cm = 1/2.54\n",
    "f,ax = plot_performance(data,\n",
    "    plot_in_time=True,\n",
    "    seperate_by=[\"stimkey\",\"contrast\"],\n",
    "    rolling_window=5,\n",
    "    mpl_kwargs={\"figsize\":(10*cm,12*cm),\n",
    "                \"linewidth\":3,\n",
    "                \"marker\":\"o\",\n",
    "                \"markersize\":4,\n",
    "                \"markeredgewidth\":0.3})\n",
    "# ax.legend(frameon=False)\n",
    "\n",
    "# date,animalid,*_ = exp_name.split(\"_\")\n",
    "# savename = f\"{date}_{animalid}_hit_rate.pdf\"\n",
    "# p.figs[0].savefig(os.path.join(paths.save[0],\"figures\",savename))"
   ]
  },
  {
   "cell_type": "markdown",
   "metadata": {},
   "source": [
    "### Progression of reaction times"
   ]
  },
  {
   "cell_type": "code",
   "execution_count": null,
   "metadata": {},
   "outputs": [],
   "source": [
    "cm = 1/2.54\n",
    "reaction_of = \"reaction_time\"\n",
    "f,ax = plot_reactiontime(\n",
    "    data,\n",
    "    plot_in_time=True,\n",
    "    reaction_of=reaction_of,\n",
    "    include_misses=False,\n",
    "    rolling_window=0,\n",
    "    seperate_by=[\"stimkey\",\"contrast\"],\n",
    "    mpl_kwargs={\"figsize\":(10*cm,12*cm),\n",
    "                \"linewidth\":3,\n",
    "                \"marker\":\"o\",\n",
    "                \"markersize\":4,\n",
    "                \"markeredgewidth\":0.3})"
   ]
  },
  {
   "cell_type": "markdown",
   "metadata": {},
   "source": [
    "### Cumulative Outcomes of the trials"
   ]
  },
  {
   "cell_type": "code",
   "execution_count": null,
   "metadata": {},
   "outputs": [],
   "source": [
    "\n",
    "f,ax = plot_cumulative_outcome(data,reaction_of=\"response_time\",\n",
    "                               mpl_kwargs={\"linewidth\":3})\n",
    "\n",
    "date,animalid,*_ = exp_name.split(\"_\")\n",
    "savename = f\"{date}_{animalid}_resp_distribution.pdf\"\n",
    "f.savefig(os.path.join(paths.save[0],\"figures\",savename))\n"
   ]
  },
  {
   "cell_type": "markdown",
   "metadata": {},
   "source": [
    "### Psychometric curve"
   ]
  },
  {
   "cell_type": "code",
   "execution_count": null,
   "metadata": {},
   "outputs": [],
   "source": [
    "plot_psychometric(data,\n",
    "                  outcomes=[\"hit\",\"miss\"],\n",
    "                  style=\"print\")"
   ]
  },
  {
   "cell_type": "markdown",
   "metadata": {},
   "source": [
    "### Reaction time of trials as dot cloud"
   ]
  },
  {
   "cell_type": "code",
   "execution_count": null,
   "metadata": {},
   "outputs": [],
   "source": [
    "plot_reaction_time_cloud(data,\n",
    "                         reaction_of=\"reaction_times\",\n",
    "                         bin_width=10,\n",
    "                         cloud_width=0.3,\n",
    "                         mpl_kwargs={\"figsize\":(12,8),\n",
    "                                     \"s\":200,\n",
    "                                     \"linewidths\":0.5,\n",
    "                                     \"edgecolors\":\"w\"})"
   ]
  },
  {
   "cell_type": "markdown",
   "metadata": {},
   "source": [
    "### Distribution of reaction times wrt to stimulus time"
   ]
  },
  {
   "cell_type": "code",
   "execution_count": null,
   "metadata": {},
   "outputs": [],
   "source": [
    "plot_reaction_time_distribution(data,\n",
    "                                reaction_of=\"reaction_time\",\n",
    "                                mpl_kwargs={\"linewidth\":1})"
   ]
  },
  {
   "cell_type": "markdown",
   "metadata": {},
   "source": [
    "### Wheel Traces"
   ]
  },
  {
   "cell_type": "code",
   "execution_count": null,
   "metadata": {},
   "outputs": [],
   "source": [
    "data_contra = data.filter(pl.col(\"stim_side\")!=\"ipsi\")\n",
    "plot_all_wheel_profiles(data_contra,\n",
    "                        plot_speed=False,\n",
    "                        time_reset=\"t_vstimstart\",\n",
    "                        mpl_kwargs={\"linewidth\":1})"
   ]
  },
  {
   "cell_type": "markdown",
   "metadata": {},
   "source": [
    "### Comparing wheel onsets and peak speeds"
   ]
  },
  {
   "cell_type": "code",
   "execution_count": null,
   "metadata": {},
   "outputs": [],
   "source": [
    "cm = 1/2.54\n",
    "data_contra = data.filter(pl.col(\"stim_side\")!=\"ipsi\")\n",
    "f = plot_all_wheel_slope_and_offsets(data_contra,\n",
    "                                     time_reset=\"t_vstimstart\",\n",
    "                                     style=\"print\",\n",
    "                                     mpl_kwargs={\"figsize\":(15*cm,15*cm),\n",
    "                                                 \"edgecolor\":'w',\n",
    "                                                 \"linewidths\":0.5})\n",
    "# date,animalid,*_ = exp_name.split(\"_\")\n",
    "# savename = f\"{date}_{animalid}_slope_vs_offset.pdf\"\n",
    "# f.savefig(os.path.join(paths.save[0],\"figures\",savename))"
   ]
  }
 ],
 "metadata": {
  "kernelspec": {
   "display_name": "piepy",
   "language": "python",
   "name": "python3"
  },
  "language_info": {
   "codemirror_mode": {
    "name": "ipython",
    "version": 3
   },
   "file_extension": ".py",
   "mimetype": "text/x-python",
   "name": "python",
   "nbconvert_exporter": "python",
   "pygments_lexer": "ipython3",
   "version": "3.10.14"
  }
 },
 "nbformat": 4,
 "nbformat_minor": 2
}
