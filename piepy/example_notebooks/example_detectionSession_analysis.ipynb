{
 "cells": [
  {
   "cell_type": "code",
   "execution_count": null,
   "metadata": {},
   "outputs": [],
   "source": [
    "from piepy.behavioural_paradigms.detection.wheelDetectionSession import WheelDetectionSession"
   ]
  },
  {
   "attachments": {},
   "cell_type": "markdown",
   "metadata": {},
   "source": [
    "### 1. Analyse the session"
   ]
  },
  {
   "cell_type": "code",
   "execution_count": null,
   "metadata": {
    "scrolled": false
   },
   "outputs": [],
   "source": [
    "exp_name = '240325_KC149_detect__no_cam_KC'\n",
    "w = WheelDetectionSession(exp_name,\n",
    "                          load_flag=True,\n",
    "                          skip_google=True)"
   ]
  },
  {
   "attachments": {},
   "cell_type": "markdown",
   "metadata": {},
   "source": [
    "### 2. Plot the psychometric curve for the session"
   ]
  },
  {
   "cell_type": "code",
   "execution_count": null,
   "metadata": {},
   "outputs": [],
   "source": [
    "from piepy.plotters.basePlotters import *\n",
    "from piepy.plotters.detection.wheelDetectionSessionPlotter import *\n",
    "from piepy.plotters.detection.wheelDetectionTrialPlotter import *"
   ]
  },
  {
   "cell_type": "code",
   "execution_count": null,
   "metadata": {},
   "outputs": [],
   "source": [
    "p_psych = DetectionPsychometricPlotter(data=w.data.data,style='print')\n",
    "p_psych.plot(figsize=(6,4),\n",
    "       jitter=0.1,\n",
    "       xaxis_type='linear_spaced',\n",
    "       doP=True)\n",
    "# p.save(w.paths.save,w.meta.baredate,w.meta.animalid)\n",
    "# w.data_paths.analysisPath,w.meta.baredate,w.meta.animalid"
   ]
  },
  {
   "cell_type": "markdown",
   "metadata": {},
   "source": [
    "### 2. Plot the hit rate performance through the session"
   ]
  },
  {
   "cell_type": "code",
   "execution_count": null,
   "metadata": {},
   "outputs": [],
   "source": [
    "p_perf = DetectionPerformancePlotter(data = w.data.data)\n",
    "p_perf.plot(seperate_by='stimkey',\n",
    "            running_window=10,\n",
    "            figsize=(15,9))"
   ]
  },
  {
   "cell_type": "markdown",
   "metadata": {},
   "source": [
    "### 2. Plot response times in the session"
   ]
  },
  {
   "cell_type": "code",
   "execution_count": null,
   "metadata": {},
   "outputs": [],
   "source": [
    "p_resp = DetectionResponseTimeScatterCloudPlotter(data = w.data.data)\n",
    "p_resp.plot_scatter(reaction_of='rig',\n",
    "                    xaxis_type='linear_spaced')"
   ]
  },
  {
   "cell_type": "markdown",
   "metadata": {},
   "source": [
    "### 2. Plot number of trial outcomes(hit, miss, early)"
   ]
  },
  {
   "cell_type": "code",
   "execution_count": null,
   "metadata": {},
   "outputs": [],
   "source": [
    "p_outcome = DetectionResponseTypeBarPlotter(w.data.data)\n",
    "p_outcome.plot()"
   ]
  },
  {
   "cell_type": "code",
   "execution_count": null,
   "metadata": {},
   "outputs": [],
   "source": []
  }
 ],
 "metadata": {
  "kernelspec": {
   "display_name": "piepy",
   "language": "python",
   "name": "python3"
  },
  "language_info": {
   "codemirror_mode": {
    "name": "ipython",
    "version": 3
   },
   "file_extension": ".py",
   "mimetype": "text/x-python",
   "name": "python",
   "nbconvert_exporter": "python",
   "pygments_lexer": "ipython3",
   "version": "3.10.14"
  }
 },
 "nbformat": 4,
 "nbformat_minor": 2
}
