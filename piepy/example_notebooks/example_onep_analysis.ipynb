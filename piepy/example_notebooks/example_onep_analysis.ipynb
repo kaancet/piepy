{
 "cells": [
  {
   "cell_type": "code",
   "execution_count": null,
   "metadata": {},
   "outputs": [],
   "source": [
    "from piepy.psychophysics.passive.passiveSession import PassiveSession\n",
    "from piepy.imaging.onep.widefield.onepAnalysis import OnePAnalysis"
   ]
  },
  {
   "cell_type": "code",
   "execution_count": null,
   "metadata": {},
   "outputs": [],
   "source": [
    "vis_sesh = PassiveSession('240226_KC147__1P_KC',load_flag=False)"
   ]
  },
  {
   "cell_type": "code",
   "execution_count": null,
   "metadata": {},
   "outputs": [],
   "source": [
    "run = vis_sesh.runs[0]\n",
    "data = run.data.data\n",
    "path = run.paths.onepcam\n",
    "o = OnePAnalysis(data,path)"
   ]
  },
  {
   "cell_type": "code",
   "execution_count": null,
   "metadata": {},
   "outputs": [],
   "source": [
    "trial_avg = o.trial_avg()"
   ]
  },
  {
   "cell_type": "code",
   "execution_count": null,
   "metadata": {},
   "outputs": [],
   "source": [
    "save_path = run.paths.save\n",
    "o.save_avg(trial_avg,run.paths.save[0])"
   ]
  }
 ],
 "metadata": {
  "kernelspec": {
   "display_name": "piepy",
   "language": "python",
   "name": "python3"
  },
  "language_info": {
   "codemirror_mode": {
    "name": "ipython",
    "version": 3
   },
   "file_extension": ".py",
   "mimetype": "text/x-python",
   "name": "python",
   "nbconvert_exporter": "python",
   "pygments_lexer": "ipython3",
   "version": "3.10.14"
  }
 },
 "nbformat": 4,
 "nbformat_minor": 2
}
