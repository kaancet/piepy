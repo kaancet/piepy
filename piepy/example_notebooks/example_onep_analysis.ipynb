{
 "cells": [
  {
   "cell_type": "code",
   "execution_count": 1,
   "metadata": {},
   "outputs": [],
   "source": [
    "from piepy.visual.visualSession import VisualSession\n",
    "from piepy.onep.onepAnalysis import OnePAnalysis"
   ]
  },
  {
   "cell_type": "code",
   "execution_count": 2,
   "metadata": {},
   "outputs": [
    {
     "name": "stdout",
     "output_type": "stream",
     "text": [
      "\u001b[36m[24-03-22 09:42:58] - Found saved data: J:\\analysis\\240226_KC147__1P_KC\\run00_204534_checkerboard_lowSF_flavo_M2T\\runData.parquet\n",
      "\u001b[0m\u001b[37m[24-03-22 09:42:58] - Parsing stimlog...\n",
      "\u001b[0m"
     ]
    },
    {
     "name": "stderr",
     "output_type": "stream",
     "text": [
      "Reading logs : 100%|██████████| 2/2 [00:00<00:00, 399.08it/s]"
     ]
    },
    {
     "name": "stdout",
     "output_type": "stream",
     "text": [
      "\u001b[37m[24-03-22 09:42:58] - Parsing riglog...\n",
      "\u001b[0m"
     ]
    },
    {
     "name": "stderr",
     "output_type": "stream",
     "text": [
      "\n",
      "Reading logs : 100%|██████████| 13/13 [00:00<00:00, 2355.54it/s]"
     ]
    },
    {
     "name": "stdout",
     "output_type": "stream",
     "text": [
      "\u001b[37m[24-03-22 09:42:58] - No data found for log key(s) : ['imaging', 'lick', 'button', 'reward', 'lap', 'act0', 'act1', 'opto']\n",
      "\u001b[0mThe number of screen pulses 100 does not match the visual stimulation photo:102 log.\n"
     ]
    },
    {
     "name": "stderr",
     "output_type": "stream",
     "text": [
      "\n"
     ]
    },
    {
     "name": "stdout",
     "output_type": "stream",
     "text": [
      "\u001b[37m[24-03-22 09:42:58] - Read rawdata\n",
      "\u001b[0m\u001b[33m[24-03-22 09:42:58] - Trial increment faulty, extracting from state changes...\n",
      "\u001b[0m"
     ]
    },
    {
     "name": "stderr",
     "output_type": "stream",
     "text": [
      "Extracting trial data:: 100%|██████████| 50/50 [00:00<00:00, 137.64it/s]\n"
     ]
    },
    {
     "name": "stdout",
     "output_type": "stream",
     "text": [
      "\u001b[32m[24-03-22 09:42:59] - Saved session data to J:\\analysis\\240226_KC147__1P_KC\\run00_204534_checkerboard_lowSF_flavo_M2T\n",
      "\u001b[0m\u001b[32m[24-03-22 09:43:00] - Saved session data to W:\\boninlabwip2024\\data\\user\\kaan\\analysis\\240226_KC147__1P_KC\\run00_204534_checkerboard_lowSF_flavo_M2T\n",
      "\u001b[0m\u001b[36m[24-03-22 09:43:00] - Found saved data: J:\\analysis\\240226_KC147__1P_KC\\run01_205913_checkerboard_lowSF_flavo_B2T\\runData.parquet\n",
      "\u001b[0m\u001b[37m[24-03-22 09:43:00] - Parsing stimlog...\n",
      "\u001b[0m"
     ]
    },
    {
     "name": "stderr",
     "output_type": "stream",
     "text": [
      "Reading logs : 100%|██████████| 2/2 [00:00<00:00, 664.39it/s]"
     ]
    },
    {
     "name": "stdout",
     "output_type": "stream",
     "text": [
      "\u001b[37m[24-03-22 09:43:00] - Parsing riglog...\n",
      "\u001b[0m"
     ]
    },
    {
     "name": "stderr",
     "output_type": "stream",
     "text": [
      "\n",
      "Reading logs : 100%|██████████| 13/13 [00:00<00:00, 3239.04it/s]"
     ]
    },
    {
     "name": "stdout",
     "output_type": "stream",
     "text": [
      "\u001b[37m[24-03-22 09:43:00] - No data found for log key(s) : ['imaging', 'lick', 'button', 'reward', 'lap', 'act0', 'act1', 'opto']\n",
      "\u001b[0mThe number of screen pulses 100 does not match the visual stimulation photo:102 log.\n"
     ]
    },
    {
     "name": "stderr",
     "output_type": "stream",
     "text": [
      "\n"
     ]
    },
    {
     "name": "stdout",
     "output_type": "stream",
     "text": [
      "\u001b[37m[24-03-22 09:43:00] - Read rawdata\n",
      "\u001b[0m\u001b[33m[24-03-22 09:43:00] - Trial increment faulty, extracting from state changes...\n",
      "\u001b[0m"
     ]
    },
    {
     "name": "stderr",
     "output_type": "stream",
     "text": [
      "Extracting trial data:: 100%|██████████| 50/50 [00:00<00:00, 130.44it/s]\n"
     ]
    },
    {
     "name": "stdout",
     "output_type": "stream",
     "text": [
      "\u001b[32m[24-03-22 09:43:02] - Saved session data to J:\\analysis\\240226_KC147__1P_KC\\run01_205913_checkerboard_lowSF_flavo_B2T\n",
      "\u001b[0m\u001b[32m[24-03-22 09:43:02] - Saved session data to W:\\boninlabwip2024\\data\\user\\kaan\\analysis\\240226_KC147__1P_KC\\run01_205913_checkerboard_lowSF_flavo_B2T\n",
      "\u001b[0m\u001b[36m[24-03-22 09:43:02] - Found saved data: J:\\analysis\\240226_KC147__1P_KC\\run02_211326_checkerboard_lowSF_flavo_T2M\\runData.parquet\n",
      "\u001b[0m\u001b[37m[24-03-22 09:43:02] - Parsing stimlog...\n",
      "\u001b[0m"
     ]
    },
    {
     "name": "stderr",
     "output_type": "stream",
     "text": [
      "Reading logs : 100%|██████████| 2/2 [00:00<00:00, 500.33it/s]"
     ]
    },
    {
     "name": "stdout",
     "output_type": "stream",
     "text": [
      "\u001b[37m[24-03-22 09:43:02] - Parsing riglog...\n",
      "\u001b[0m"
     ]
    },
    {
     "name": "stderr",
     "output_type": "stream",
     "text": [
      "\n",
      "Reading logs : 100%|██████████| 13/13 [00:00<00:00, 1992.40it/s]"
     ]
    },
    {
     "name": "stdout",
     "output_type": "stream",
     "text": [
      "\u001b[37m[24-03-22 09:43:02] - No data found for log key(s) : ['imaging', 'lick', 'button', 'reward', 'lap', 'act0', 'act1', 'opto']\n",
      "\u001b[0mThe number of screen pulses 100 does not match the visual stimulation photo:102 log.\n",
      "\u001b[37m[24-03-22 09:43:02] - Read rawdata\n",
      "\u001b[0m\u001b[33m[24-03-22 09:43:02] - Trial increment faulty, extracting from state changes...\n",
      "\u001b[0m"
     ]
    },
    {
     "name": "stderr",
     "output_type": "stream",
     "text": [
      "\n",
      "Extracting trial data:: 100%|██████████| 50/50 [00:00<00:00, 135.26it/s]\n"
     ]
    },
    {
     "name": "stdout",
     "output_type": "stream",
     "text": [
      "\u001b[32m[24-03-22 09:43:04] - Saved session data to J:\\analysis\\240226_KC147__1P_KC\\run02_211326_checkerboard_lowSF_flavo_T2M\n",
      "\u001b[0m\u001b[32m[24-03-22 09:43:04] - Saved session data to W:\\boninlabwip2024\\data\\user\\kaan\\analysis\\240226_KC147__1P_KC\\run02_211326_checkerboard_lowSF_flavo_T2M\n",
      "\u001b[0m\u001b[36m[24-03-22 09:43:04] - Found saved data: J:\\analysis\\240226_KC147__1P_KC\\run03_212703_checkerboard_lowSF_flavo_T2B\\runData.parquet\n",
      "\u001b[0m\u001b[37m[24-03-22 09:43:04] - Parsing stimlog...\n",
      "\u001b[0m"
     ]
    },
    {
     "name": "stderr",
     "output_type": "stream",
     "text": [
      "Reading logs : 100%|██████████| 2/2 [00:00<00:00, 797.24it/s]"
     ]
    },
    {
     "name": "stdout",
     "output_type": "stream",
     "text": [
      "\u001b[37m[24-03-22 09:43:04] - Parsing riglog...\n",
      "\u001b[0m"
     ]
    },
    {
     "name": "stderr",
     "output_type": "stream",
     "text": [
      "\n",
      "Reading logs : 100%|██████████| 13/13 [00:00<00:00, 2828.40it/s]"
     ]
    },
    {
     "name": "stdout",
     "output_type": "stream",
     "text": [
      "\u001b[37m[24-03-22 09:43:04] - No data found for log key(s) : ['imaging', 'lick', 'button', 'reward', 'lap', 'act0', 'act1', 'opto']\n",
      "\u001b[0mThe number of screen pulses 100 does not match the visual stimulation photo:102 log.\n",
      "\u001b[37m[24-03-22 09:43:04] - Read rawdata\n",
      "\u001b[0m\u001b[33m[24-03-22 09:43:04] - Trial increment faulty, extracting from state changes...\n",
      "\u001b[0m"
     ]
    },
    {
     "name": "stderr",
     "output_type": "stream",
     "text": [
      "\n",
      "Extracting trial data:: 100%|██████████| 50/50 [00:00<00:00, 140.34it/s]\n"
     ]
    },
    {
     "name": "stdout",
     "output_type": "stream",
     "text": [
      "\u001b[32m[24-03-22 09:43:06] - Saved session data to J:\\analysis\\240226_KC147__1P_KC\\run03_212703_checkerboard_lowSF_flavo_T2B\n",
      "\u001b[0m\u001b[32m[24-03-22 09:43:06] - Saved session data to W:\\boninlabwip2024\\data\\user\\kaan\\analysis\\240226_KC147__1P_KC\\run03_212703_checkerboard_lowSF_flavo_T2B\n",
      "\u001b[0m\u001b[37m[24-03-22 09:43:06] - Done! t=8.29 s\n",
      "\u001b[0m"
     ]
    }
   ],
   "source": [
    "vis_sesh = VisualSession('240226_KC147__1P_KC',load_flag=False)"
   ]
  },
  {
   "cell_type": "code",
   "execution_count": 5,
   "metadata": {},
   "outputs": [
    {
     "name": "stderr",
     "output_type": "stream",
     "text": [
      "Parsing tiffs:   0%|          | 0/52 [00:00<?, ?it/s]"
     ]
    },
    {
     "name": "stderr",
     "output_type": "stream",
     "text": [
      "Parsing tiffs: 100%|██████████| 52/52 [00:01<00:00, 31.26it/s]"
     ]
    },
    {
     "name": "stdout",
     "output_type": "stream",
     "text": [
      "\u001b[37m[24-03-22 09:45:54] - Avg. frame time: 61.07966570984371 ms\n",
      "\u001b[0m"
     ]
    },
    {
     "name": "stderr",
     "output_type": "stream",
     "text": [
      "\n"
     ]
    }
   ],
   "source": [
    "run = vis_sesh.runs[0]\n",
    "data = run.data.data\n",
    "path = run.paths.onepcam\n",
    "o = OnePAnalysis(data,path)"
   ]
  },
  {
   "cell_type": "code",
   "execution_count": 6,
   "metadata": {},
   "outputs": [
    {
     "name": "stdout",
     "output_type": "stream",
     "text": [
      "Analyzing in a single batch [11500]\n"
     ]
    },
    {
     "name": "stderr",
     "output_type": "stream",
     "text": [
      "Reading frames from tiff files 13056 / 13191: 100%|██████████| 52/52 [06:16<00:00,  7.24s/it]\n",
      "Getting the mean 11040 - 11270: 100%|██████████| 49/49 [01:44<00:00,  2.13s/it]\n"
     ]
    }
   ],
   "source": [
    "trial_avg = o.trial_avg()"
   ]
  },
  {
   "cell_type": "code",
   "execution_count": 9,
   "metadata": {},
   "outputs": [
    {
     "name": "stdout",
     "output_type": "stream",
     "text": [
      "Saved J:\\analysis\\240226_KC147__1P_KC\\run00_204534_checkerboard_lowSF_flavo_M2T\\movies\\avg.tif\n"
     ]
    }
   ],
   "source": [
    "save_path = run.paths.save\n",
    "o.save_avg(trial_avg,run.paths.save[0])"
   ]
  }
 ],
 "metadata": {
  "kernelspec": {
   "display_name": "kc3.10",
   "language": "python",
   "name": "kc310"
  },
  "language_info": {
   "codemirror_mode": {
    "name": "ipython",
    "version": 3
   },
   "file_extension": ".py",
   "mimetype": "text/x-python",
   "name": "python",
   "nbconvert_exporter": "python",
   "pygments_lexer": "ipython3",
   "version": "3.10.13"
  }
 },
 "nbformat": 4,
 "nbformat_minor": 2
}
