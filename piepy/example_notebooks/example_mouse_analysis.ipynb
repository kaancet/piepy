{
 "cells": [
  {
   "cell_type": "code",
   "execution_count": 1,
   "metadata": {},
   "outputs": [],
   "source": [
    "from piepy.core.mouse import Mouse\n",
    "import matplotlib.pyplot as plt\n",
    "import polars as pl\n",
    "import datetime as dt\n",
    "\n",
    "from piepy.plotters.detection.wheelDetectionBehaviorPlotter import WheelDetectionPerformanceProgressionPlotter"
   ]
  },
  {
   "cell_type": "code",
   "execution_count": 2,
   "metadata": {},
   "outputs": [
    {
     "name": "stdout",
     "output_type": "stream",
     "text": [
      "\u001b[36m[24-08-08 11:45:12] - Set the data analysis paradigm to detection\n",
      "\u001b[0m\u001b[37m[24-08-08 11:45:13] - Access granted to Mouse Database_new\n",
      "\u001b[0m"
     ]
    }
   ],
   "source": [
    "animalid = \"KC303\"\n",
    "m = Mouse(animalid,'detection')"
   ]
  },
  {
   "cell_type": "code",
   "execution_count": 3,
   "metadata": {},
   "outputs": [
    {
     "name": "stderr",
     "output_type": "stream",
     "text": [
      "0it [00:00, ?it/s]"
     ]
    },
    {
     "name": "stdout",
     "output_type": "stream",
     "text": [
      "\u001b[37m[24-08-08 11:45:29] - Gathering behavior data... : 1.92s\n",
      "\u001b[0m"
     ]
    },
    {
     "name": "stderr",
     "output_type": "stream",
     "text": [
      "\n"
     ]
    }
   ],
   "source": [
    "m.gather_data(load_type='last_saved')"
   ]
  },
  {
   "cell_type": "code",
   "execution_count": null,
   "metadata": {},
   "outputs": [],
   "source": [
    "m.data.summary_data.filter(pl.col(\"level\")==6).sort([\"total_trial_count\"],descending=True)"
   ]
  },
  {
   "cell_type": "code",
   "execution_count": null,
   "metadata": {},
   "outputs": [],
   "source": [
    "pp = WheelDetectionPerformanceProgressionPlotter(style=\"print\")"
   ]
  },
  {
   "cell_type": "code",
   "execution_count": null,
   "metadata": {},
   "outputs": [],
   "source": [
    "pp.set_data(cumul_data=m.data.cumul_data,summary_data=m.data.summary_data)"
   ]
  },
  {
   "cell_type": "code",
   "execution_count": null,
   "metadata": {},
   "outputs": [],
   "source": [
    "pp.plot_type = \"summary\""
   ]
  },
  {
   "cell_type": "code",
   "execution_count": null,
   "metadata": {},
   "outputs": [],
   "source": [
    "pp.plot_hit_rate(figsize=(10,5),window_width=20,easy_only=True,color='gray')"
   ]
  },
  {
   "cell_type": "code",
   "execution_count": null,
   "metadata": {},
   "outputs": [],
   "source": [
    "pp.plot_fa_rate(figsize=(10,5),window_width=20)"
   ]
  },
  {
   "cell_type": "code",
   "execution_count": null,
   "metadata": {},
   "outputs": [],
   "source": [
    "pp.plot_type=\"summary\"\n",
    "pp.plot_median_rt(figsize=(10,5),window_width=300,easy_only=True)"
   ]
  },
  {
   "cell_type": "code",
   "execution_count": null,
   "metadata": {},
   "outputs": [],
   "source": [
    "m.save()"
   ]
  },
  {
   "cell_type": "code",
   "execution_count": null,
   "metadata": {},
   "outputs": [],
   "source": [
    "m.data.cumul_data.head(20)"
   ]
  },
  {
   "cell_type": "code",
   "execution_count": null,
   "metadata": {},
   "outputs": [],
   "source": [
    "m.data.cumul_data.filter(pl.col(\"date\").is_between(dt.date(2022,10,10),dt.date(2022,10,12)))"
   ]
  },
  {
   "cell_type": "code",
   "execution_count": null,
   "metadata": {},
   "outputs": [],
   "source": [
    "f = plt.figure()\n",
    "ax = f.add_subplot(111)\n",
    "\n",
    "training_data = m.data.cumul_data.filter(pl.col(\"session_type\")==\"training\")\n",
    "\n",
    "training_data = training_data.with_columns(rolling_median=pl.col(\"response_latency\").rolling_median(window_size=1000))\n",
    "\n",
    "x = training_data[\"cumul_trial_no\"].to_list()\n",
    "y = training_data[\"rolling_median\"].to_list()\n",
    "\n",
    "ax.plot(x,y)"
   ]
  },
  {
   "cell_type": "code",
   "execution_count": null,
   "metadata": {},
   "outputs": [],
   "source": [
    "m.data.summary_data.filter(pl.col(\"task\").str.starts_with(\"Simple\"))"
   ]
  },
  {
   "cell_type": "code",
   "execution_count": 7,
   "metadata": {},
   "outputs": [
    {
     "name": "stdout",
     "output_type": "stream",
     "text": [
      "\u001b[36m[24-08-12 14:27:29] - Set the data analysis paradigm to detection\n",
      "\u001b[0m\u001b[37m[24-08-12 14:27:30] - Access granted to Mouse Database_new\n",
      "\u001b[0m"
     ]
    },
    {
     "name": "stderr",
     "output_type": "stream",
     "text": [
      "0it [00:00, ?it/s]"
     ]
    },
    {
     "name": "stdout",
     "output_type": "stream",
     "text": [
      "\u001b[37m[24-08-12 14:27:35] - Gathering behavior data... : 1.62s\n",
      "\u001b[0m"
     ]
    },
    {
     "name": "stderr",
     "output_type": "stream",
     "text": [
      "\n"
     ]
    },
    {
     "name": "stdout",
     "output_type": "stream",
     "text": [
      "\u001b[36m[24-08-12 14:27:35] - Set the data analysis paradigm to detection\n",
      "\u001b[0m\u001b[37m[24-08-12 14:27:36] - Access granted to Mouse Database_new\n",
      "\u001b[0m"
     ]
    },
    {
     "name": "stderr",
     "output_type": "stream",
     "text": [
      "0it [00:00, ?it/s]"
     ]
    },
    {
     "name": "stdout",
     "output_type": "stream",
     "text": [
      "\u001b[37m[24-08-12 14:27:40] - Gathering behavior data... : 1.93s\n",
      "\u001b[0m"
     ]
    },
    {
     "name": "stderr",
     "output_type": "stream",
     "text": [
      "\n"
     ]
    },
    {
     "name": "stdout",
     "output_type": "stream",
     "text": [
      "\u001b[36m[24-08-12 14:27:41] - Set the data analysis paradigm to detection\n",
      "\u001b[0m\u001b[37m[24-08-12 14:27:42] - Access granted to Mouse Database_new\n",
      "\u001b[0m"
     ]
    },
    {
     "name": "stderr",
     "output_type": "stream",
     "text": [
      "0it [00:00, ?it/s]"
     ]
    },
    {
     "name": "stdout",
     "output_type": "stream",
     "text": [
      "\u001b[37m[24-08-12 14:27:47] - Gathering behavior data... : 2.17s\n",
      "\u001b[0m"
     ]
    },
    {
     "name": "stderr",
     "output_type": "stream",
     "text": [
      "\n"
     ]
    },
    {
     "name": "stdout",
     "output_type": "stream",
     "text": [
      "\u001b[36m[24-08-12 14:27:48] - Set the data analysis paradigm to detection\n",
      "\u001b[0m\u001b[37m[24-08-12 14:27:50] - Access granted to Mouse Database_new\n",
      "\u001b[0m"
     ]
    },
    {
     "name": "stderr",
     "output_type": "stream",
     "text": [
      "0it [00:00, ?it/s]"
     ]
    },
    {
     "name": "stdout",
     "output_type": "stream",
     "text": [
      "\u001b[37m[24-08-12 14:27:55] - Gathering behavior data... : 1.98s\n",
      "\u001b[0m"
     ]
    },
    {
     "name": "stderr",
     "output_type": "stream",
     "text": [
      "\n"
     ]
    },
    {
     "name": "stdout",
     "output_type": "stream",
     "text": [
      "\u001b[36m[24-08-12 14:27:56] - Set the data analysis paradigm to detection\n",
      "\u001b[0m\u001b[37m[24-08-12 14:27:57] - Access granted to Mouse Database_new\n",
      "\u001b[0m"
     ]
    },
    {
     "name": "stderr",
     "output_type": "stream",
     "text": [
      "0it [00:00, ?it/s]"
     ]
    },
    {
     "name": "stdout",
     "output_type": "stream",
     "text": [
      "\u001b[37m[24-08-12 14:28:03] - Gathering behavior data... : 4.08s\n",
      "\u001b[0m"
     ]
    },
    {
     "name": "stderr",
     "output_type": "stream",
     "text": [
      "\n"
     ]
    },
    {
     "name": "stdout",
     "output_type": "stream",
     "text": [
      "\u001b[36m[24-08-12 14:28:04] - Set the data analysis paradigm to detection\n",
      "\u001b[0m\u001b[37m[24-08-12 14:28:05] - Access granted to Mouse Database_new\n",
      "\u001b[0m"
     ]
    },
    {
     "name": "stderr",
     "output_type": "stream",
     "text": [
      "0it [00:00, ?it/s]"
     ]
    },
    {
     "name": "stdout",
     "output_type": "stream",
     "text": [
      "\u001b[37m[24-08-12 14:28:12] - Gathering behavior data... : 3.88s\n",
      "\u001b[0m"
     ]
    },
    {
     "name": "stderr",
     "output_type": "stream",
     "text": [
      "\n"
     ]
    },
    {
     "name": "stdout",
     "output_type": "stream",
     "text": [
      "\u001b[36m[24-08-12 14:28:13] - Set the data analysis paradigm to detection\n",
      "\u001b[0m\u001b[37m[24-08-12 14:28:14] - Access granted to Mouse Database_new\n",
      "\u001b[0m"
     ]
    },
    {
     "name": "stderr",
     "output_type": "stream",
     "text": [
      "0it [00:00, ?it/s]"
     ]
    },
    {
     "name": "stdout",
     "output_type": "stream",
     "text": [
      "\u001b[37m[24-08-12 14:28:21] - Gathering behavior data... : 5.19s\n",
      "\u001b[0m"
     ]
    },
    {
     "name": "stderr",
     "output_type": "stream",
     "text": [
      "\n"
     ]
    },
    {
     "name": "stdout",
     "output_type": "stream",
     "text": [
      "\u001b[36m[24-08-12 14:28:23] - Set the data analysis paradigm to detection\n",
      "\u001b[0m\u001b[37m[24-08-12 14:28:24] - Access granted to Mouse Database_new\n",
      "\u001b[0m"
     ]
    },
    {
     "name": "stderr",
     "output_type": "stream",
     "text": [
      "0it [00:00, ?it/s]"
     ]
    },
    {
     "name": "stdout",
     "output_type": "stream",
     "text": [
      "\u001b[37m[24-08-12 14:28:30] - Gathering behavior data... : 3.76s\n",
      "\u001b[0m"
     ]
    },
    {
     "name": "stderr",
     "output_type": "stream",
     "text": [
      "\n"
     ]
    },
    {
     "name": "stdout",
     "output_type": "stream",
     "text": [
      "\u001b[36m[24-08-12 14:28:32] - Set the data analysis paradigm to detection\n",
      "\u001b[0m\u001b[37m[24-08-12 14:28:33] - Access granted to Mouse Database_new\n",
      "\u001b[0m"
     ]
    },
    {
     "name": "stderr",
     "output_type": "stream",
     "text": [
      "0it [00:00, ?it/s]"
     ]
    },
    {
     "name": "stdout",
     "output_type": "stream",
     "text": [
      "\u001b[37m[24-08-12 14:28:40] - Gathering behavior data... : 3.89s\n",
      "\u001b[0m"
     ]
    },
    {
     "name": "stderr",
     "output_type": "stream",
     "text": [
      "\n"
     ]
    },
    {
     "name": "stdout",
     "output_type": "stream",
     "text": [
      "\u001b[36m[24-08-12 14:28:42] - Set the data analysis paradigm to detection\n",
      "\u001b[0m\u001b[37m[24-08-12 14:28:43] - Access granted to Mouse Database_new\n",
      "\u001b[0m"
     ]
    },
    {
     "name": "stderr",
     "output_type": "stream",
     "text": [
      "0it [00:00, ?it/s]"
     ]
    },
    {
     "name": "stdout",
     "output_type": "stream",
     "text": [
      "\u001b[37m[24-08-12 14:28:50] - Gathering behavior data... : 3.84s\n",
      "\u001b[0m"
     ]
    },
    {
     "name": "stderr",
     "output_type": "stream",
     "text": [
      "\n"
     ]
    },
    {
     "name": "stdout",
     "output_type": "stream",
     "text": [
      "\u001b[36m[24-08-12 14:28:52] - Set the data analysis paradigm to detection\n",
      "\u001b[0m\u001b[37m[24-08-12 14:28:53] - Access granted to Mouse Database_new\n",
      "\u001b[0m"
     ]
    },
    {
     "name": "stderr",
     "output_type": "stream",
     "text": [
      "0it [00:00, ?it/s]"
     ]
    },
    {
     "name": "stdout",
     "output_type": "stream",
     "text": [
      "\u001b[37m[24-08-12 14:29:01] - Gathering behavior data... : 4.6s\n",
      "\u001b[0m"
     ]
    },
    {
     "name": "stderr",
     "output_type": "stream",
     "text": [
      "\n"
     ]
    },
    {
     "name": "stdout",
     "output_type": "stream",
     "text": [
      "\u001b[36m[24-08-12 14:29:03] - Set the data analysis paradigm to detection\n",
      "\u001b[0m\u001b[37m[24-08-12 14:29:04] - Access granted to Mouse Database_new\n",
      "\u001b[0m"
     ]
    },
    {
     "name": "stderr",
     "output_type": "stream",
     "text": [
      "0it [00:00, ?it/s]"
     ]
    },
    {
     "name": "stdout",
     "output_type": "stream",
     "text": [
      "\u001b[37m[24-08-12 14:29:11] - Gathering behavior data... : 4.02s\n",
      "\u001b[0m"
     ]
    },
    {
     "name": "stderr",
     "output_type": "stream",
     "text": [
      "\n"
     ]
    },
    {
     "name": "stdout",
     "output_type": "stream",
     "text": [
      "\u001b[36m[24-08-12 14:29:13] - Set the data analysis paradigm to detection\n",
      "\u001b[0m\u001b[37m[24-08-12 14:29:14] - Access granted to Mouse Database_new\n",
      "\u001b[0m"
     ]
    },
    {
     "name": "stderr",
     "output_type": "stream",
     "text": [
      "0it [00:00, ?it/s]"
     ]
    },
    {
     "name": "stdout",
     "output_type": "stream",
     "text": [
      "\u001b[37m[24-08-12 14:29:20] - Gathering behavior data... : 3.46s\n",
      "\u001b[0m"
     ]
    },
    {
     "name": "stderr",
     "output_type": "stream",
     "text": [
      "\n"
     ]
    },
    {
     "name": "stdout",
     "output_type": "stream",
     "text": [
      "\u001b[36m[24-08-12 14:29:23] - Set the data analysis paradigm to detection\n",
      "\u001b[0m\u001b[37m[24-08-12 14:29:24] - Access granted to Mouse Database_new\n",
      "\u001b[0m"
     ]
    },
    {
     "name": "stderr",
     "output_type": "stream",
     "text": [
      "0it [00:00, ?it/s]"
     ]
    },
    {
     "name": "stdout",
     "output_type": "stream",
     "text": [
      "\u001b[37m[24-08-12 14:29:31] - Gathering behavior data... : 3.45s\n",
      "\u001b[0m"
     ]
    },
    {
     "name": "stderr",
     "output_type": "stream",
     "text": [
      "\n"
     ]
    },
    {
     "name": "stdout",
     "output_type": "stream",
     "text": [
      "\u001b[36m[24-08-12 14:29:33] - Set the data analysis paradigm to detection\n",
      "\u001b[0m\u001b[37m[24-08-12 14:29:34] - Access granted to Mouse Database_new\n",
      "\u001b[0m"
     ]
    },
    {
     "name": "stderr",
     "output_type": "stream",
     "text": [
      "0it [00:00, ?it/s]"
     ]
    },
    {
     "name": "stdout",
     "output_type": "stream",
     "text": [
      "\u001b[37m[24-08-12 14:29:39] - Gathering behavior data... : 3.06s\n",
      "\u001b[0m"
     ]
    },
    {
     "name": "stderr",
     "output_type": "stream",
     "text": [
      "\n"
     ]
    },
    {
     "name": "stdout",
     "output_type": "stream",
     "text": [
      "\u001b[36m[24-08-12 14:29:42] - Set the data analysis paradigm to detection\n",
      "\u001b[0m\u001b[37m[24-08-12 14:29:43] - Access granted to Mouse Database_new\n",
      "\u001b[0m"
     ]
    },
    {
     "name": "stderr",
     "output_type": "stream",
     "text": [
      "0it [00:00, ?it/s]"
     ]
    },
    {
     "name": "stdout",
     "output_type": "stream",
     "text": [
      "\u001b[37m[24-08-12 14:29:47] - Gathering behavior data... : 1.36s\n",
      "\u001b[0m"
     ]
    },
    {
     "name": "stderr",
     "output_type": "stream",
     "text": [
      "\n"
     ]
    },
    {
     "name": "stdout",
     "output_type": "stream",
     "text": [
      "\u001b[36m[24-08-12 14:29:49] - Set the data analysis paradigm to detection\n",
      "\u001b[0m\u001b[37m[24-08-12 14:29:51] - Access granted to Mouse Database_new\n",
      "\u001b[0m"
     ]
    },
    {
     "name": "stderr",
     "output_type": "stream",
     "text": [
      "0it [00:00, ?it/s]"
     ]
    },
    {
     "name": "stdout",
     "output_type": "stream",
     "text": [
      "\u001b[37m[24-08-12 14:29:55] - Gathering behavior data... : 1.37s\n",
      "\u001b[0m"
     ]
    },
    {
     "name": "stderr",
     "output_type": "stream",
     "text": [
      "\n"
     ]
    },
    {
     "name": "stdout",
     "output_type": "stream",
     "text": [
      "\u001b[36m[24-08-12 14:29:57] - Set the data analysis paradigm to detection\n",
      "\u001b[0m\u001b[37m[24-08-12 14:29:59] - Access granted to Mouse Database_new\n",
      "\u001b[0m"
     ]
    },
    {
     "name": "stderr",
     "output_type": "stream",
     "text": [
      "0it [00:00, ?it/s]"
     ]
    },
    {
     "name": "stdout",
     "output_type": "stream",
     "text": [
      "\u001b[37m[24-08-12 14:30:03] - Gathering behavior data... : 1.42s\n",
      "\u001b[0m"
     ]
    },
    {
     "name": "stderr",
     "output_type": "stream",
     "text": [
      "\n"
     ]
    },
    {
     "name": "stdout",
     "output_type": "stream",
     "text": [
      "\u001b[36m[24-08-12 14:30:06] - Set the data analysis paradigm to detection\n",
      "\u001b[0m\u001b[37m[24-08-12 14:30:07] - Access granted to Mouse Database_new\n",
      "\u001b[0m"
     ]
    },
    {
     "name": "stderr",
     "output_type": "stream",
     "text": [
      "0it [00:00, ?it/s]"
     ]
    },
    {
     "name": "stdout",
     "output_type": "stream",
     "text": [
      "\u001b[37m[24-08-12 14:30:11] - Gathering behavior data... : 1.92s\n",
      "\u001b[0m"
     ]
    },
    {
     "name": "stderr",
     "output_type": "stream",
     "text": [
      "\n"
     ]
    },
    {
     "name": "stdout",
     "output_type": "stream",
     "text": [
      "\u001b[36m[24-08-12 14:30:14] - Set the data analysis paradigm to detection\n",
      "\u001b[0m\u001b[37m[24-08-12 14:30:15] - Access granted to Mouse Database_new\n",
      "\u001b[0m"
     ]
    },
    {
     "name": "stderr",
     "output_type": "stream",
     "text": [
      "0it [00:00, ?it/s]"
     ]
    },
    {
     "name": "stdout",
     "output_type": "stream",
     "text": [
      "\u001b[37m[24-08-12 14:30:20] - Gathering behavior data... : 1.5s\n",
      "\u001b[0m"
     ]
    },
    {
     "name": "stderr",
     "output_type": "stream",
     "text": [
      "\n"
     ]
    },
    {
     "name": "stdout",
     "output_type": "stream",
     "text": [
      "\u001b[36m[24-08-12 14:30:22] - Set the data analysis paradigm to detection\n",
      "\u001b[0m\u001b[37m[24-08-12 14:30:23] - Access granted to Mouse Database_new\n",
      "\u001b[0m"
     ]
    },
    {
     "name": "stderr",
     "output_type": "stream",
     "text": [
      "0it [00:00, ?it/s]"
     ]
    },
    {
     "name": "stdout",
     "output_type": "stream",
     "text": [
      "\u001b[37m[24-08-12 14:30:27] - Gathering behavior data... : 1.58s\n",
      "\u001b[0m"
     ]
    },
    {
     "name": "stderr",
     "output_type": "stream",
     "text": [
      "\n"
     ]
    },
    {
     "name": "stdout",
     "output_type": "stream",
     "text": [
      "\u001b[36m[24-08-12 14:30:30] - Set the data analysis paradigm to detection\n",
      "\u001b[0m\u001b[37m[24-08-12 14:30:31] - Access granted to Mouse Database_new\n",
      "\u001b[0m"
     ]
    },
    {
     "name": "stderr",
     "output_type": "stream",
     "text": [
      "0it [00:00, ?it/s]"
     ]
    },
    {
     "name": "stdout",
     "output_type": "stream",
     "text": [
      "\u001b[37m[24-08-12 14:30:36] - Gathering behavior data... : 1.49s\n",
      "\u001b[0m"
     ]
    },
    {
     "name": "stderr",
     "output_type": "stream",
     "text": [
      "\n"
     ]
    }
   ],
   "source": [
    "animal_old = [\"KC128\",\"KC131\",\"KC132\",\"KC137\"]\n",
    "animal_kaan = [\"KC300\",\"KC301\",\"KC139\",\"KC142\",\"KC143\",\"KC144\",\"KC145\",\"KC146\",\"KC147\",\"KC148\",\"KC149\",\"KC150\",\"KC151\",\"KC152\"]\n",
    "animal_dylan = [\"KC303\",\"KC303\",\"KC304\",\"DM002\"]\n",
    "\n",
    "animalids = animal_old + animal_kaan + animal_dylan\n",
    "\n",
    "hr_dict = {}\n",
    "_session_offset = 0\n",
    "for i,a in enumerate(animalids):\n",
    "    m = Mouse(a,\"detection\")\n",
    "    m.gather_data(load_type='last_saved')\n",
    "    # detection_training_data = m.data.summary_data.filter(pl.col(\"task\").str.starts_with(\"Simple\"))\n",
    "    # hr_dict[a] = detection_training_data[\"hit_rate\"].to_list()\n",
    "    \n",
    "    m.data.summary_data = m.data.summary_data.with_columns(pl.lit(a).alias(\"animalid\"))\n",
    "    cols = m.data.summary_data.columns\n",
    "    cols = [\"animalid\"] + cols[:-1]\n",
    "    m.data.summary_data = m.data.summary_data.select(cols)\n",
    "   \n",
    "    # add a unique number to all sessions\n",
    "    m.data.summary_data = m.data.summary_data.with_columns((pl.col(\"session_no\")+_session_offset).alias(\"unique_session_no\"))\n",
    "    m.data.cumul_data = m.data.cumul_data.with_columns((pl.col(\"session_no\")+_session_offset).alias(\"unique_session_no\"))\n",
    "    _session_offset += len(m.data.summary_data)\n",
    "    \n",
    "    if i == 0: \n",
    "        all_data_cumul = m.data.cumul_data\n",
    "        all_data_summary = m.data.summary_data\n",
    "    else:\n",
    "        # sorting the columns\n",
    "        new_cumul = m.data.cumul_data\n",
    "        # fixing column datatypes\n",
    "        if all_data_cumul.dtypes != new_cumul.dtypes:\n",
    "            try:\n",
    "                all_data_cumul = all_data_cumul.with_columns(\n",
    "                    [\n",
    "                        pl.col(n).cast(t)\n",
    "                        for n, t in zip(all_data_cumul.columns, new_cumul.dtypes)\n",
    "                        if t != pl.Null\n",
    "                    ]\n",
    "                )\n",
    "            except:\n",
    "                print(\"jlsdiobjsdf\")\n",
    "                \n",
    "        new_summ = m.data.summary_data  \n",
    "        all_data_summary = all_data_summary.with_columns(\n",
    "                    [\n",
    "                        pl.col(n).cast(t, strict=False)\n",
    "                        for n, t in zip(all_data_summary.columns, new_summ.dtypes)\n",
    "                        if t != pl.Null\n",
    "                    ]\n",
    "                )\n",
    "        \n",
    "        all_data_cumul = pl.concat([all_data_cumul,new_cumul])\n",
    "        all_data_summary = pl.concat([all_data_summary,new_summ])\n",
    "    "
   ]
  },
  {
   "cell_type": "code",
   "execution_count": 2,
   "metadata": {},
   "outputs": [],
   "source": [
    "all_data_cumul = pl.read_parquet(r\"J:\\analysis\\behavior_results\\240806_all_mice_data\\240806_cumulative_data.parquet\")\n",
    "all_data_summary = pl.read_parquet(r\"J:\\analysis\\behavior_results\\240806_all_mice_data\\240806_summary_data.parquet\")"
   ]
  },
  {
   "cell_type": "code",
   "execution_count": 3,
   "metadata": {},
   "outputs": [],
   "source": [
    "# add rig time\n",
    "from scipy.optimize import curve_fit\n",
    "def transform_to_rig_time(data:pl.DataFrame) -> None:\n",
    "    \"\"\"Transforms the reaction time of trials that dont't have rig_reaction_time to that time frame\"\"\"\n",
    "    with_rig_time = data.drop_nulls(\"rig_reaction_time\")\n",
    "    resp_time = with_rig_time[\"response_latency\"]\n",
    "    rig_time = with_rig_time[\"rig_reaction_time\"]\n",
    "\n",
    "    def m1_func(x, a):\n",
    "        m = 1\n",
    "        return m * x + a\n",
    "\n",
    "    if len(rig_time):\n",
    "        popt, pcov = curve_fit(\n",
    "            m1_func, resp_time, rig_time\n",
    "        )  # popt[0] is the time diff intercept\n",
    "\n",
    "        all_resp_time = data[\"response_latency\"]\n",
    "        new_rig_times = m1_func(all_resp_time, *popt)\n",
    "\n",
    "        tmp = pl.Series(\"temp_response_times\", new_rig_times)\n",
    "        data = data.with_columns(tmp)\n",
    "\n",
    "        data = data.with_columns(\n",
    "            pl.when(pl.col(\"outcome\") != 0)\n",
    "            .then(pl.col(\"temp_response_times\"))\n",
    "            .otherwise(pl.col(\"response_latency\"))\n",
    "            .alias(\"transformed_response_times\")\n",
    "        )\n",
    "        # drop the temp column\n",
    "        data = data.drop(\"temp_response_times\")\n",
    "\n",
    "    else:\n",
    "        display(\"NO RIG TIME TO INTERPOLATE, COPYING STATE TIME\", color=\"red\")\n",
    "        data = data.with_columns(\n",
    "            pl.col(\"response_latency\").alias(\"transformed_response_times\")\n",
    "        )\n",
    "    return data"
   ]
  },
  {
   "cell_type": "code",
   "execution_count": 4,
   "metadata": {},
   "outputs": [],
   "source": [
    "transformed_cumul = transform_to_rig_time(all_data_cumul)"
   ]
  },
  {
   "cell_type": "code",
   "execution_count": 6,
   "metadata": {},
   "outputs": [
    {
     "data": {
      "text/html": [
       "<div><style>\n",
       ".dataframe > thead > tr,\n",
       ".dataframe > tbody > tr {\n",
       "  text-align: right;\n",
       "  white-space: pre-wrap;\n",
       "}\n",
       "</style>\n",
       "<small>shape: (841_130,)</small><table border=\"1\" class=\"dataframe\"><thead><tr><th>transformed_response_times</th></tr><tr><td>f64</td></tr></thead><tbody><tr><td>1149.310921</td></tr><tr><td>881.310921</td></tr><tr><td>1682.310921</td></tr><tr><td>1265.310921</td></tr><tr><td>1312.310921</td></tr><tr><td>286.310921</td></tr><tr><td>150.310921</td></tr><tr><td>365.310921</td></tr><tr><td>1654.310921</td></tr><tr><td>2834.310921</td></tr><tr><td>2565.310921</td></tr><tr><td>1762.310921</td></tr><tr><td>&hellip;</td></tr><tr><td>241.310921</td></tr><tr><td>1017.0</td></tr><tr><td>1021.310921</td></tr><tr><td>348.310921</td></tr><tr><td>1003.0</td></tr><tr><td>1000.0</td></tr><tr><td>1015.0</td></tr><tr><td>675.310921</td></tr><tr><td>295.310921</td></tr><tr><td>449.310921</td></tr><tr><td>263.310921</td></tr><tr><td>750.310921</td></tr></tbody></table></div>"
      ],
      "text/plain": [
       "shape: (841_130,)\n",
       "Series: 'transformed_response_times' [f64]\n",
       "[\n",
       "\t1149.310921\n",
       "\t881.310921\n",
       "\t1682.310921\n",
       "\t1265.310921\n",
       "\t1312.310921\n",
       "\t286.310921\n",
       "\t150.310921\n",
       "\t365.310921\n",
       "\t1654.310921\n",
       "\t2834.310921\n",
       "\t2565.310921\n",
       "\t1762.310921\n",
       "\t…\n",
       "\t1007.0\n",
       "\t241.310921\n",
       "\t1017.0\n",
       "\t1021.310921\n",
       "\t348.310921\n",
       "\t1003.0\n",
       "\t1000.0\n",
       "\t1015.0\n",
       "\t675.310921\n",
       "\t295.310921\n",
       "\t449.310921\n",
       "\t263.310921\n",
       "\t750.310921\n",
       "]"
      ]
     },
     "execution_count": 6,
     "metadata": {},
     "output_type": "execute_result"
    }
   ],
   "source": [
    "transformed_cumul['transformed_response_times']"
   ]
  },
  {
   "cell_type": "code",
   "execution_count": 10,
   "metadata": {},
   "outputs": [
    {
     "data": {
      "text/plain": [
       "<Axes: title={'center': 'Timing Differnces'}, xlabel='response_latency (ms)', ylabel='transformed_response_times (ms)'>"
      ]
     },
     "execution_count": 10,
     "metadata": {},
     "output_type": "execute_result"
    },
    {
     "data": {
      "image/png": "[encoded data removed]",
      "text/plain": [
       "<Figure size 800x800 with 1 Axes>"
      ]
     },
     "metadata": {},
     "output_type": "display_data"
    }
   ],
   "source": [
    "from piepy.scripts.plot_timing_differences import plot_all_timings, look_at_timing_differences\n",
    "look_at_timing_differences(transformed_cumul[:1000],\"response_latency\",\"transformed_response_times\",only_hit=True)"
   ]
  },
  {
   "cell_type": "code",
   "execution_count": 11,
   "metadata": {},
   "outputs": [],
   "source": [
    "transformed_cumul.write_parquet(r\"J:\\analysis\\behavior_results\\240806_all_mice_data\\240812_cumulative_data.parquet\")\n",
    "all_data_summary.write_parquet(r\"J:\\analysis\\behavior_results\\240806_all_mice_data\\240812_summary_data.parquet\")"
   ]
  },
  {
   "cell_type": "code",
   "execution_count": null,
   "metadata": {},
   "outputs": [],
   "source": []
  }
 ],
 "metadata": {
  "kernelspec": {
   "display_name": "piepy",
   "language": "python",
   "name": "python3"
  },
  "language_info": {
   "codemirror_mode": {
    "name": "ipython",
    "version": 3
   },
   "file_extension": ".py",
   "mimetype": "text/x-python",
   "name": "python",
   "nbconvert_exporter": "python",
   "pygments_lexer": "ipython3",
   "version": "3.10.14"
  }
 },
 "nbformat": 4,
 "nbformat_minor": 2
}
