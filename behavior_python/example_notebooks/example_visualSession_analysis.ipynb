{
 "cells": [
  {
   "cell_type": "code",
   "execution_count": 1,
   "metadata": {},
   "outputs": [],
   "source": [
    "from behavior_python.visual.visualSession import VisualSession"
   ]
  },
  {
   "cell_type": "code",
   "execution_count": 2,
   "metadata": {},
   "outputs": [
    {
     "name": "stdout",
     "output_type": "stream",
     "text": [
      "\u001b[36m[24-03-21 19:06:18] - Found saved data: J:\\analysis\\240320_KC149_oristim_PM__2P_KC\\runData.parquet\n",
      "\u001b[0m\u001b[37m[24-03-21 19:06:18] - Parsing stimlog...\n",
      "\u001b[0m"
     ]
    },
    {
     "name": "stderr",
     "output_type": "stream",
     "text": [
      "Reading logs : 100%|██████████| 2/2 [00:00<00:00, 398.30it/s]"
     ]
    },
    {
     "name": "stdout",
     "output_type": "stream",
     "text": [
      "\u001b[37m[24-03-21 19:06:18] - Parsing riglog...\n",
      "\u001b[0m"
     ]
    },
    {
     "name": "stderr",
     "output_type": "stream",
     "text": [
      "\n",
      "Reading logs : 100%|██████████| 13/13 [00:00<00:00, 1295.71it/s]"
     ]
    },
    {
     "name": "stdout",
     "output_type": "stream",
     "text": [
      "\u001b[37m[24-03-21 19:06:18] - No data found for log key(s) : ['lick', 'button', 'reward', 'lap', 'act0', 'act1', 'opto']\n",
      "\u001b[0m"
     ]
    },
    {
     "name": "stderr",
     "output_type": "stream",
     "text": [
      "\n"
     ]
    },
    {
     "name": "stdout",
     "output_type": "stream",
     "text": [
      "The number of screen pulses 721 does not match the visual stimulation photo:722 log.\n",
      "\u001b[37m[24-03-21 19:06:18] - Read rawdata\n",
      "\u001b[0m\u001b[33m[24-03-21 19:06:18] - Trial increment faulty, extracting from state changes...\n",
      "\u001b[0m"
     ]
    },
    {
     "name": "stderr",
     "output_type": "stream",
     "text": [
      "Extracting trial data:: 100%|██████████| 360/360 [00:02<00:00, 133.70it/s]\n"
     ]
    },
    {
     "name": "stdout",
     "output_type": "stream",
     "text": [
      "\u001b[32m[24-03-21 19:06:22] - Saved session data to J:\\analysis\\240320_KC149_oristim_PM__2P_KC\n",
      "\u001b[0m\u001b[32m[24-03-21 19:06:22] - Saved session data to W:\\boninlabwip2024\\data\\user\\kaan\\analysis\\240320_KC149_oristim_PM__2P_KC\n",
      "\u001b[0m\u001b[37m[24-03-21 19:06:22] - Done! t=4.51 s\n",
      "\u001b[0m"
     ]
    }
   ],
   "source": [
    "vis_sesh = VisualSession('240320_KC149_oristim_PM__2P_KC',load_flag=False)"
   ]
  },
  {
   "cell_type": "code",
   "execution_count": null,
   "metadata": {},
   "outputs": [],
   "source": [
    "vis_sesh.runs[0].meta.__dict__"
   ]
  },
  {
   "cell_type": "code",
   "execution_count": null,
   "metadata": {},
   "outputs": [],
   "source": [
    "import matplotlib.pyplot as plt\n",
    "import numpy as np"
   ]
  },
  {
   "cell_type": "code",
   "execution_count": null,
   "metadata": {},
   "outputs": [],
   "source": []
  }
 ],
 "metadata": {
  "kernelspec": {
   "display_name": "kc3.10",
   "language": "python",
   "name": "kc310"
  },
  "language_info": {
   "codemirror_mode": {
    "name": "ipython",
    "version": 3
   },
   "file_extension": ".py",
   "mimetype": "text/x-python",
   "name": "python",
   "nbconvert_exporter": "python",
   "pygments_lexer": "ipython3",
   "version": "3.10.13"
  }
 },
 "nbformat": 4,
 "nbformat_minor": 2
}
