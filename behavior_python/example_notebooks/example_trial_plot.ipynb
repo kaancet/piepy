{
 "cells": [
  {
   "cell_type": "code",
   "execution_count": 1,
   "metadata": {},
   "outputs": [],
   "source": [
    "from behavior_python.detection.wheelDetectionSession import WheelDetectionSession\n",
    "from behavior_python.plotters.detection.wheelDetectionTrialPlotter import DetectionTrialPlotter\n",
    "\n",
    "import glob\n",
    "import polars as pl\n",
    "\n",
    "import matplotlib.pyplot as plt\n",
    "from ipywidgets import Layout, Dropdown,interact,FloatRangeSlider\n",
    "from IPython.display import display"
   ]
  },
  {
   "cell_type": "code",
   "execution_count": null,
   "metadata": {},
   "outputs": [],
   "source": [
    "animalid = 'KC144'\n",
    "area = '*'\n",
    "glob.glob(f'J:\\\\presentation\\\\*_{animalid}_detect_opto*_{area}*')"
   ]
  },
  {
   "cell_type": "code",
   "execution_count": 2,
   "metadata": {},
   "outputs": [
    {
     "name": "stdout",
     "output_type": "stream",
     "text": [
      "[23-10-27 16:34:31] - Found session rawdata at J:\\presentation\n",
      "[23-10-27 16:34:31] -  : Started analysis of 230831_KC145_detect_opto120_AL__no_cam_KC\n",
      "[23-10-27 16:34:31] -  : Found saved data: J:\\analysis\\230831_KC145_detect_opto120_AL__no_cam_KC\\sessionData.parquet\n",
      "[23-10-27 16:34:31] -  : Loading from J:\\analysis\\230831_KC145_detect_opto120_AL__no_cam_KC\n",
      "[23-10-27 16:34:31] - Loaded all data : 0.136s\n",
      "[23-10-27 16:34:31] - Setting outcome to state\n",
      "[23-10-27 16:34:31] -  : Done! t=0.14 s\n"
     ]
    }
   ],
   "source": [
    "exp_name = '230831_KC145_detect_opto120_AL__no_cam_KC' \n",
    "w = WheelDetectionSession(exp_name,load_flag=True)\n"
   ]
  },
  {
   "cell_type": "code",
   "execution_count": 3,
   "metadata": {},
   "outputs": [
    {
     "data": {
      "application/vnd.jupyter.widget-view+json": {
       "model_id": "1e94eca8463d4771917784c894ea272c",
       "version_major": 2,
       "version_minor": 0
      },
      "text/plain": [
       "interactive(children=(Dropdown(description='Trial Outcome', index=3, options=('Hit', 'Miss', 'Early', 'All'), …"
      ]
     },
     "metadata": {},
     "output_type": "display_data"
    }
   ],
   "source": [
    "trial_plotter = DetectionTrialPlotter(w.data.data)\n",
    "outcome_dict = {'Hit' : 1,\n",
    "                'Miss' : 0,\n",
    "                'Early' : -1,\n",
    "                'All' : None\n",
    "                }\n",
    "\n",
    "outcome_selector =Dropdown(options=list(outcome_dict.keys()), \n",
    "                                    value='All',\n",
    "                                    description='Trial Outcome')\n",
    "\n",
    "trials = w.data.data.get_column('trial_no').to_list()\n",
    "\n",
    "trial_selector = Dropdown(options=trials,\n",
    "                                   value=1,\n",
    "                                   description='Trial No')\n",
    "\n",
    "range_slider = FloatRangeSlider(\n",
    "    value=[-100, 1000],\n",
    "    min=-5000,\n",
    "    max=5000,\n",
    "    step=10,\n",
    "    description='Plot Range:',\n",
    "    continuous_update=False,\n",
    "    orientation='horizontal',\n",
    "    readout=True,\n",
    "    readout_format='.1f',\n",
    ")\n",
    "\n",
    "def update_trial_list(*args):\n",
    "    selected_outcome = outcome_selector.value\n",
    "    o = outcome_dict[selected_outcome]\n",
    "    if not o is None:\n",
    "        filt_df = w.data.data.filter(pl.col('outcome')==o)\n",
    "        filt_trials = filt_df.get_column('trial_no').to_list()\n",
    "    else:\n",
    "        filt_trials = w.data.data.get_column('trial_no').to_list()\n",
    "    \n",
    "        trial_selector.options = filt_trials\n",
    "outcome_selector.observe(update_trial_list, 'change')\n",
    "    \n",
    "@interact(outcome=outcome_selector,trial_no=trial_selector,t_lim=range_slider)\n",
    "def plot_trial(outcome,trial_no,t_lim):\n",
    "    # filt_trials = trials\n",
    "    # if outcome is not None:\n",
    "    #     filt_df = w.data.data.filter(pl.col('outcome')==outcome_dict[outcome])\n",
    "    #     filt_trials = filt_df.get_column('trial_no').to_list()\n",
    "    # print(f'Number of trials: {len(filt_trials)}')\n",
    "    trial_plotter.plot(trial_no=trial_no,t_lim=t_lim)"
   ]
  },
  {
   "cell_type": "code",
   "execution_count": null,
   "metadata": {},
   "outputs": [],
   "source": []
  }
 ],
 "metadata": {
  "kernelspec": {
   "display_name": "kc3.10",
   "language": "python",
   "name": "kc310"
  },
  "language_info": {
   "codemirror_mode": {
    "name": "ipython",
    "version": 3
   },
   "file_extension": ".py",
   "mimetype": "text/x-python",
   "name": "python",
   "nbconvert_exporter": "python",
   "pygments_lexer": "ipython3",
   "version": "3.10.12"
  },
  "orig_nbformat": 4
 },
 "nbformat": 4,
 "nbformat_minor": 2
}
